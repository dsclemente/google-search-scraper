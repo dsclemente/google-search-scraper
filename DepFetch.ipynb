{
 "cells": [
  {
   "cell_type": "code",
   "execution_count": 1,
   "metadata": {},
   "outputs": [],
   "source": [
    "import pandas as pd\n",
    "from googlesearch import search\n",
    "import requests \n",
    "from bs4 import BeautifulSoup \n",
    "import urllib\n",
    "import csv\n",
    "import re\n",
    "import sqlite3\n",
    "import eventlet\n",
    "eventlet.monkey_patch()"
   ]
  },
  {
   "cell_type": "code",
   "execution_count": 2,
   "metadata": {},
   "outputs": [],
   "source": [
    "df = pd.read_csv('hospitals.csv')\n",
    "with open('dept.csv') as f:\n",
    "    reader = csv.reader(f)\n",
    "    your_list = list(reader)"
   ]
  },
  {
   "cell_type": "code",
   "execution_count": null,
   "metadata": {},
   "outputs": [
    {
     "name": "stderr",
     "output_type": "stream",
     "text": [
      "Traceback (most recent call last):\n",
      "  File \"/home/ghosty/.local/lib/python3.6/site-packages/eventlet/hubs/hub.py\", line 460, in fire_timers\n",
      "    timer()\n",
      "  File \"/home/ghosty/.local/lib/python3.6/site-packages/eventlet/hubs/timer.py\", line 59, in __call__\n",
      "    cb(*args, **kw)\n",
      "  File \"/home/ghosty/.local/lib/python3.6/site-packages/eventlet/semaphore.py\", line 147, in _do_acquire\n",
      "    waiter.switch()\n",
      "greenlet.error: cannot switch to a different thread\n"
     ]
    }
   ],
   "source": [
    "df['Dept']=''"
   ]
  },
  {
   "cell_type": "code",
   "execution_count": null,
   "metadata": {},
   "outputs": [],
   "source": [
    "print(your_list)"
   ]
  },
  {
   "cell_type": "code",
   "execution_count": null,
   "metadata": {
    "scrolled": true
   },
   "outputs": [],
   "source": [
    "connection = sqlite3.connect(\"myTable.db\")\n",
    "ctr =0\n",
    "for index,row in df.iterrows():\n",
    "    query = str(row['name']) + str(row['address']) + 'department'\n",
    "    te=''\n",
    "    d = set()\n",
    "    for j in search(query,num=5,start=0, stop=5, pause=2):\n",
    "        try:\n",
    "            link = str(j)\n",
    "            te=''\n",
    "            print(link)\n",
    "            with eventlet.Timeout(10):\n",
    "                f =requests.get(link)\n",
    "            myfile = f.text\n",
    "            for dept in your_list:\n",
    "                searchObj = re.search( dept[0], myfile, re.M|re.I)\n",
    "                if searchObj:\n",
    "                    d.add(dept[0])\n",
    "                    \n",
    "                    \n",
    "        except:\n",
    "            print('Fetch Error')\n",
    "        \n",
    "        ctr=ctr+1\n",
    "        print(ctr)\n",
    "        for obj in list(d):\n",
    "            te = obj +','+ te\n",
    "    df['Dept'][index] = te\n",
    "    print(te)\n",
    "#    if ctr == 20:\n",
    "#        break\n",
    "    df.to_sql('hospitals_between_kolkata_and_kharagpur_without duplicates.csv', connection, if_exists='replace', index=False)\n",
    "        "
   ]
  },
  {
   "cell_type": "code",
   "execution_count": null,
   "metadata": {},
   "outputs": [],
   "source": [
    "df"
   ]
  },
  {
   "cell_type": "code",
   "execution_count": null,
   "metadata": {},
   "outputs": [],
   "source": [
    "df"
   ]
  },
  {
   "cell_type": "code",
   "execution_count": null,
   "metadata": {},
   "outputs": [],
   "source": []
  },
  {
   "cell_type": "code",
   "execution_count": null,
   "metadata": {},
   "outputs": [],
   "source": [
    "for dept in your_list:\n",
    "    searchObj = re.search( dept[0], myfile, re.M|re.I)\n",
    "    if searchObj:\n",
    "        print(dept[0])"
   ]
  },
  {
   "cell_type": "code",
   "execution_count": null,
   "metadata": {},
   "outputs": [],
   "source": [
    "i=343\n",
    "for i in df.iterrows():\n",
    "    query = str(df.at[i,'name']) + str(df.at[i,'address'][i]) + 'department'\n",
    "    for j in search(query,num=1,start=0, stop=1, pause=2):\n",
    "        try:\n",
    "            link = str(j)\n",
    "            te=''\n",
    "            print(link)\n",
    "            with eventlet.Timeout(10):\n",
    "                f =requests.get(link)\n",
    "            myfile = f.text\n",
    "            for dept in your_list:\n",
    "                searchObj = re.search( dept[0], myfile, re.M|re.I)\n",
    "                if searchObj:\n",
    "                    te = dept[0] +','+ te\n",
    "            df.at[i,'Dept'] = te        \n",
    "        except:\n",
    "            print('Fetch Error')\n",
    "        print(df['Dept'][i])\n",
    "        ctr=ctr+1\n",
    "        print(ctr)\n",
    "#    if ctr == 20:\n",
    "#        break\n",
    "#    df.to_sql('hospitals_between_kolkata_and_kharagpur_without duplicates.csv', connection, if_exists='replace', index=False)\n",
    "        "
   ]
  },
  {
   "cell_type": "code",
   "execution_count": null,
   "metadata": {},
   "outputs": [],
   "source": [
    "df.iloc[0]['name']"
   ]
  },
  {
   "cell_type": "code",
   "execution_count": null,
   "metadata": {},
   "outputs": [],
   "source": [
    "df.at[0,'name']='Apollo Gleneagles Hospital'"
   ]
  },
  {
   "cell_type": "code",
   "execution_count": null,
   "metadata": {},
   "outputs": [],
   "source": []
  }
 ],
 "metadata": {
  "kernelspec": {
   "display_name": "Python 3",
   "language": "python",
   "name": "python3"
  },
  "language_info": {
   "codemirror_mode": {
    "name": "ipython",
    "version": 3
   },
   "file_extension": ".py",
   "mimetype": "text/x-python",
   "name": "python",
   "nbconvert_exporter": "python",
   "pygments_lexer": "ipython3",
   "version": "3.6.7"
  }
 },
 "nbformat": 4,
 "nbformat_minor": 2
}
